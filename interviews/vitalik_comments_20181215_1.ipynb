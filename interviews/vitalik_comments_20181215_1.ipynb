{
  "nbformat": 4,
  "nbformat_minor": 0,
  "metadata": {
    "colab": {
      "name": "Analysis of Vitalik comments on BTC1.ipynb",
      "version": "0.3.2",
      "provenance": []
    },
    "kernelspec": {
      "name": "python3",
      "display_name": "Python 3"
    }
  },
  "cells": [
    {
      "metadata": {
        "id": "n3ff4nQHDa_p",
        "colab_type": "text"
      },
      "cell_type": "markdown",
      "source": [
        "\n",
        "# Analysis of Vitalik's comments on BTC \n",
        "\n",
        "[Ethereum Creator Vitalik Buterin on the Survival of Bitcoin, Plus Ripple and XRP, Tron, Litecoin, IOTA: Crypto News Alert](https://dailyhodl.com/2018/12/15/ethereum-creator-vitalik-buterin-on-the-survival-of-bitcoin-plus-ripple-and-xrp-tron-litecoin-iota-crypto-news-alert/)\n",
        "\n",
        "\n"
      ]
    },
    {
      "metadata": {
        "id": "_vyPzzYiDjTG",
        "colab_type": "text"
      },
      "cell_type": "markdown",
      "source": [
        "\n",
        "# Overview \n",
        "\n",
        "Vitalik points \n",
        "\n",
        "- Economic Gatekeeping is necessary in trustless context \n",
        "\n",
        "- PoW is flawed compared to PoS \n",
        "  - Energy issue is a now a **real blocking issue** as \n",
        "    - it affects scalability \n",
        "    - is starting to have some non trivial environmental consequences \n",
        "\n",
        "\n"
      ]
    },
    {
      "metadata": {
        "id": "YPxHBi0mEH9A",
        "colab_type": "text"
      },
      "cell_type": "markdown",
      "source": [
        "\n",
        "# More Details \n",
        "\n",
        "## Economic Gatekeeping \n",
        "\n",
        "### Overview \n",
        "\n",
        "- Using some kind of scarce resource to prove the **level of participation in the network** so to ultimately have the possibility to make a decision \n",
        "- Necessary to avoid trivial self proclamating \"I represent 1B users\" attack : you have to prove your contribution in the network some way \n",
        "\n",
        "### PoW vs PoS \n",
        "\n",
        "![PoW vs PoS1](https://blockgeeks.com/wp-content/uploads/2017/03/infographics2017-01.png)\n",
        "\n",
        "### PoW \n",
        "\n",
        "- The right to Validate Transactions, so to ultimately alter Blockchain, is proven solving a computationally intensive puzzle \n",
        "\n",
        "- **Pro**\n",
        "  - Simple and effective way to prevent attacks e.g. double spending attack : **Econominc Gatekeeping** implemented with computational power (relying on electricity + technology)\n",
        "\n",
        "- **Con**\n",
        "  - Energy efficiency very low : spending a lot of resources in meaningless computation, just to update the Blockchain \n",
        "  \n",
        "- Comments \n",
        "  - PoW made well on the first phase of BC development, making them robust against attacks while scaling to global adoption \n",
        "  - Eventually poses **Scalability Limitations** \n",
        "\n",
        "\n",
        "### PoS \n",
        "\n",
        "- The right to Validate Transactions derives from Wealth (Stake) \n",
        "- No actual mining so no computational power spending so \n",
        "  - Transactions are forged \n",
        "  - Validators pool, algorithm to select the specific Transaction forger \n",
        "  - No Mining Reward in terms of new Cryptos \n",
        "\n",
        "\n"
      ]
    },
    {
      "metadata": {
        "id": "2pc8-vD2DVNy",
        "colab_type": "code",
        "colab": {}
      },
      "cell_type": "code",
      "source": [
        ""
      ],
      "execution_count": 0,
      "outputs": []
    }
  ]
}
