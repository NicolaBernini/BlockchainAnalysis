{
  "nbformat": 4,
  "nbformat_minor": 0,
  "metadata": {
    "colab": {
      "name": "Shared1_TestVyper1.ipynb",
      "version": "0.3.2",
      "provenance": []
    },
    "kernelspec": {
      "name": "python3",
      "display_name": "Python 3"
    }
  },
  "cells": [
    {
      "metadata": {
        "id": "qBPn756x9u8Z",
        "colab_type": "text"
      },
      "cell_type": "markdown",
      "source": [
        "\n",
        "# Overview \n",
        "\n",
        "- Testing the use of [Vyper - Contract Oriented Language for Ethereum](https://vyper.readthedocs.io/en/v0.1.0-beta.8/) in Notebook \n",
        "\n",
        "\n"
      ]
    },
    {
      "metadata": {
        "id": "YGsYttIv938g",
        "colab_type": "text"
      },
      "cell_type": "markdown",
      "source": [
        "\n",
        "# Installation \n",
        "\n",
        "- Vyper is available via pip \n"
      ]
    },
    {
      "metadata": {
        "id": "hnixTC039sw2",
        "colab_type": "code",
        "colab": {
          "base_uri": "https://localhost:8080/",
          "height": 51
        },
        "outputId": "613dba2a-bf29-432a-8b66-6055592dde0f"
      },
      "cell_type": "code",
      "source": [
        "!pip install vyper"
      ],
      "execution_count": 1,
      "outputs": [
        {
          "output_type": "stream",
          "text": [
            "Requirement already satisfied: vyper in /usr/local/lib/python3.6/dist-packages (0.1.0b8)\n",
            "Requirement already satisfied: pycryptodome<4,>=3.5.1 in /usr/local/lib/python3.6/dist-packages (from vyper) (3.7.3)\n"
          ],
          "name": "stdout"
        }
      ]
    },
    {
      "metadata": {
        "id": "JUYYwhMq-Av6",
        "colab_type": "text"
      },
      "cell_type": "markdown",
      "source": [
        "\n",
        "# Compiler Test  \n",
        "\n",
        "- After the installation has been performed, the `vyper` compiler is available \n",
        "- Let's test it compiling some examples \n",
        "  - let's try compiling valid Vyper code, the expected result is bytecode to be deployed on the blockchain \n",
        "  - let's try compiling invalid Vyper code, the expected result is some error message specifying what's wrong according to the compiler \n",
        "  \n",
        "- Files \n",
        "  - the `valid_contract_header.vy`represents a valid contract header, consisting of its storage, which is expected to compile \n",
        "  - the `invalid_contract_header.vy` represents an invalid contract header, with an error at the of the file so we expect it does not compile and we get an errror message  "
      ]
    },
    {
      "metadata": {
        "id": "hK_H5jak9816",
        "colab_type": "code",
        "colab": {
          "base_uri": "https://localhost:8080/",
          "height": 68
        },
        "outputId": "beb753f7-1a28-47b6-ebd9-5d05356a9136"
      },
      "cell_type": "code",
      "source": [
        "!vyper"
      ],
      "execution_count": 3,
      "outputs": [
        {
          "output_type": "stream",
          "text": [
            "usage: vyper [-h] [--version] [--show-gas-estimates] [-f FORMAT] [--debug]\n",
            "             input_files [input_files ...]\n",
            "vyper: error: the following arguments are required: input_files\n"
          ],
          "name": "stdout"
        }
      ]
    },
    {
      "metadata": {
        "id": "3KtX-8Hn-KQ7",
        "colab_type": "code",
        "colab": {
          "base_uri": "https://localhost:8080/",
          "height": 34
        },
        "outputId": "1fb633e4-19e2-4a20-bf4d-e445a93dec8e"
      },
      "cell_type": "code",
      "source": [
        "%%writefile valid_contract_header.vy\n",
        "struct Funder :\n",
        "  sender: address\n",
        "  value: wei_value\n",
        "\n",
        "funders: map(int128, Funder)\n",
        "nextFunderIndex: int128\n",
        "beneficiary: address\n",
        "deadline: public(timestamp)\n",
        "goal: public(wei_value)\n",
        "refundIndex: int128\n",
        "timelimit: public(timedelta)\n",
        "\n"
      ],
      "execution_count": 4,
      "outputs": [
        {
          "output_type": "stream",
          "text": [
            "Writing valid_contract_header.vy\n"
          ],
          "name": "stdout"
        }
      ]
    },
    {
      "metadata": {
        "id": "xoeA_Z03_Bng",
        "colab_type": "code",
        "colab": {
          "base_uri": "https://localhost:8080/",
          "height": 34
        },
        "outputId": "1af90704-2102-402f-cac4-296b150425a8"
      },
      "cell_type": "code",
      "source": [
        "%%writefile invalid_contract_header.vy\n",
        "struct Funder :\n",
        "  sender: address\n",
        "  value: wei_value\n",
        "\n",
        "funders: map(int128, Funder)\n",
        "nextFunderIndex: int128\n",
        "beneficiary: address\n",
        "deadline: public(timestamp)\n",
        "goal: public(wei_value)\n",
        "refundIndex: int128\n",
        "timelimit: public(timedelta)\n",
        "  \n",
        "aaa\n"
      ],
      "execution_count": 5,
      "outputs": [
        {
          "output_type": "stream",
          "text": [
            "Writing invalid_contract_header.vy\n"
          ],
          "name": "stdout"
        }
      ]
    },
    {
      "metadata": {
        "id": "AXawTPmK_WKg",
        "colab_type": "code",
        "colab": {
          "base_uri": "https://localhost:8080/",
          "height": 68
        },
        "outputId": "37c448a9-91db-4a70-8495-cf426799017d"
      },
      "cell_type": "code",
      "source": [
        "!vyper invalid_contract_header.vy"
      ],
      "execution_count": 6,
      "outputs": [
        {
          "output_type": "stream",
          "text": [
            "Error compiling:  invalid_contract_header.vy\n",
            "vyper.exceptions.StructureException: line 13: Invalid top-level statement\n",
            "aaa\n"
          ],
          "name": "stdout"
        }
      ]
    },
    {
      "metadata": {
        "id": "69lSwTwP_YKh",
        "colab_type": "code",
        "colab": {
          "base_uri": "https://localhost:8080/",
          "height": 54
        },
        "outputId": "81d6903a-77ec-404e-fdfc-2e8c66169eef"
      },
      "cell_type": "code",
      "source": [
        "!vyper valid_contract_header.vy"
      ],
      "execution_count": 7,
      "outputs": [
        {
          "output_type": "stream",
          "text": [
            "0x61010f56600035601c52740100000000000000000000000000000000000000006020526f7fffffffffffffffffffffffffffffff6040527fffffffffffffffffffffffffffffffff8000000000000000000000000000000060605274012a05f1fffffffffffffffffffffffffdabf41c006080527ffffffffffffffffffffffffed5fa0e000000000000000000000000000000000060a0526329dcb0cf60005114156100b95734156100ac57600080fd5b60035460005260206000f3005b634019388360005114156100df5734156100d257600080fd5b60045460005260206000f3005b6387963f8e60005114156101055734156100f857600080fd5b60065460005260206000f3005b60006000fd5b61000461010f0361000460003961000461010f036000f3\n"
          ],
          "name": "stdout"
        }
      ]
    },
    {
      "metadata": {
        "id": "tZLfD7b-_gRq",
        "colab_type": "code",
        "colab": {}
      },
      "cell_type": "code",
      "source": [
        ""
      ],
      "execution_count": 0,
      "outputs": []
    }
  ]
}

