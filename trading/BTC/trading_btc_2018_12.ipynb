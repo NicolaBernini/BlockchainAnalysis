{
  "nbformat": 4,
  "nbformat_minor": 0,
  "metadata": {
    "colab": {
      "name": "Crypto Trading Overview - Dec 2018.ipynb",
      "version": "0.3.2",
      "provenance": []
    },
    "kernelspec": {
      "name": "python3",
      "display_name": "Python 3"
    }
  },
  "cells": [
    {
      "metadata": {
        "id": "mr3UIkPpZav4",
        "colab_type": "text"
      },
      "cell_type": "markdown",
      "source": [
        "\n",
        "# Crypto Trading Overview - 2018-12-15 \n",
        "\n",
        "## BTC \n",
        "\n",
        "![BTC_20181215_1](https://i.paste.pics/90cb52da65d76c811b621863138c62f5.png)\n",
        "\n",
        "- Triangle is about to close so on Mon Dec 17 it will probably jump: up or down ? \n",
        "\n",
        "![BTC_20181215_3](https://i.paste.pics/2fea10ef8be209e5e671399666cd1727.png)\n",
        "\n",
        "- Sells have been quite supported by Volumes so far \n",
        "\n",
        "\n"
      ]
    },
    {
      "metadata": {
        "id": "wQKpAbF4ZaGT",
        "colab_type": "code",
        "colab": {}
      },
      "cell_type": "code",
      "source": [
        ""
      ],
      "execution_count": 0,
      "outputs": []
    }
  ]
}

