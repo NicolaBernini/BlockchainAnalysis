{
  "nbformat": 4,
  "nbformat_minor": 0,
  "metadata": {
    "colab": {
      "name": "Blockchain_Philosophy1.ipynb",
      "version": "0.3.2",
      "provenance": []
    },
    "kernelspec": {
      "name": "python3",
      "display_name": "Python 3"
    }
  },
  "cells": [
    {
      "metadata": {
        "id": "3EQc2zyTXG6a",
        "colab_type": "text"
      },
      "cell_type": "markdown",
      "source": [
        "\n",
        "# Overview \n",
        "\n",
        "- Blockchain : Distributed Ledger updated via Consensus, with the specific structure of Blocks (containing set of Transactions) connected one to each other in a linear way \n",
        "  - each Block points to the previous one \n",
        "\n",
        "- Bitcoin : is \"just\" a currency \n",
        "  - it relies on a Blockchain to process transactions (representing currency movements) so to perform ultimately **private property tracking** (who owns what)\n",
        "  - **Observation**: \n",
        "    - current society is shaped around the idea that private property is guranteed and enforced by a central authority, so central authority is accepted \n",
        "    - Blockchain provides the infrastructure to guarantee private property in a trustless environment, with no central authority (enforcing is a different challenge, as it requires interacting in the real world)\n",
        "    - Bitcoin is an application of Blockchain to money which scaled at global level \n",
        "  - Implications: no central authority means **no human in the loop** of private property \n",
        "- Ethereum : Blockchain + Turing Complete Language \n",
        "  - Goal: **Code is Law** \n",
        "  - Implications: removing humans from private property is not enough, let's remove human from all legals stuff \n",
        "  \n",
        "\n",
        "\n",
        "To be continued \n"
      ]
    },
    {
      "metadata": {
        "id": "ugctuGj4XCDh",
        "colab_type": "code",
        "colab": {}
      },
      "cell_type": "code",
      "source": [
        ""
      ],
      "execution_count": 0,
      "outputs": []
    }
  ]
}



