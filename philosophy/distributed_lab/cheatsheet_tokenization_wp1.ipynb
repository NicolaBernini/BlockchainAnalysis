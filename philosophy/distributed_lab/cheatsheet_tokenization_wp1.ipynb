{
  "nbformat": 4,
  "nbformat_minor": 0,
  "metadata": {
    "colab": {
      "name": "In Brief - Distributed Lab - Tokenization Whitepaper1.ipynb",
      "version": "0.3.2",
      "provenance": [],
      "collapsed_sections": []
    },
    "kernelspec": {
      "name": "python3",
      "display_name": "Python 3"
    }
  },
  "cells": [
    {
      "metadata": {
        "id": "wVzTwKI6BiB2",
        "colab_type": "text"
      },
      "cell_type": "markdown",
      "source": [
        "\n",
        "# Overview \n",
        "\n",
        "[Distributed Lab - Tokenization - Whitepaper](https://www.linkedin.com/feed/update/urn:li:ugcPost:6480822958452465664/)\n",
        "\n",
        "Appunto \n"
      ]
    },
    {
      "metadata": {
        "id": "DqzDYQzRCk3k",
        "colab_type": "text"
      },
      "cell_type": "markdown",
      "source": [
        "\n",
        "# Blockchain - Definition \n",
        "\n",
        "> Blockchain is a method of storage and synchronization of data between parties who do not trust each other \n",
        "\n",
        "`Pavel Kravchenko, PhD`\n",
        "\n",
        "- it is about Ledger Management \n",
        "- working on top of what can be considered typically a \"hostile\" environment : non centralized, without trust among parties \n",
        "\n",
        "\n",
        "\n",
        "# Blockchain - Paradigm Shift \n",
        "\n",
        "## Description \n",
        "\n",
        "- Blockchain paradigm shift is at **infrastructural level** \n",
        "- **Traditional** (non BC based) Infrastructure is focused on putting security checks on borders \n",
        "  - Hackers goal is then to penetrate the borders so to access the information \n",
        "- **Blockchain** Infrastructure allows to perform secure computation without the need of security checks on the borders using \n",
        "  - Cryptography to Verify Authenticity, Obscure Content, ... \n",
        "  - Distributed Storage as a Resilient Storage Backend \n",
        "- Blockchain allows to perform any kind of Computation in a scenario relying on much more **relaxed assumptions** than tradition ones, no need of \n",
        "  - borders (no border checks)\n",
        "  - trust \n",
        "  - custom security mechanism (Authentication, ...)\n",
        "  - custom storage redundancy \n",
        "\n",
        "\n",
        "## Advantages \n",
        "\n",
        "- Increased Security \n",
        "- Lower TCO \n",
        "- Transparency "
      ]
    },
    {
      "metadata": {
        "id": "jM1kpoFTJBwI",
        "colab_type": "text"
      },
      "cell_type": "markdown",
      "source": [
        "\n",
        "# Tokenization \n",
        "\n",
        "- Goal: create a digitalized blockchain based representation of a real world asset \n",
        "  - Token has its own identity \n",
        "  - Blockchain guarantees you can track its property \n",
        "  - The related updates (e.g. property update so Token `T` that was owned by `A` now it's owned by `B`) can be managed via some programmable logic, assuming the Blockchain Infrastructure provides this feature \n",
        "    - E.g. Ethereum provides a Turing Complete Language for this purpose \n",
        "    - What in the real world is regulated by Laws, on the Blockchain can be regulated by specific Contract Logic running on the Blockchain so the principle of **Code is Law**\n",
        " \n",
        " \n",
        "    \n"
      ]
    },
    {
      "metadata": {
        "id": "Jj8OxwYkA4Dp",
        "colab_type": "code",
        "colab": {}
      },
      "cell_type": "code",
      "source": [
        ""
      ],
      "execution_count": 0,
      "outputs": []
    }
  ]
}
